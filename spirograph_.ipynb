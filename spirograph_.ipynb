{
  "nbformat": 4,
  "nbformat_minor": 0,
  "metadata": {
    "colab": {
      "provenance": [],
      "authorship_tag": "ABX9TyO8prJ1zV42DWViSjKBJ3BP",
      "include_colab_link": true
    },
    "kernelspec": {
      "name": "python3",
      "display_name": "Python 3"
    },
    "language_info": {
      "name": "python"
    }
  },
  "cells": [
    {
      "cell_type": "markdown",
      "metadata": {
        "id": "view-in-github",
        "colab_type": "text"
      },
      "source": [
        "<a href=\"https://colab.research.google.com/github/rihemmaarefe/spirograph-/blob/main/spirograph_.ipynb\" target=\"_parent\"><img src=\"https://colab.research.google.com/assets/colab-badge.svg\" alt=\"Open In Colab\"/></a>"
      ]
    },
    {
      "cell_type": "code",
      "execution_count": null,
      "metadata": {
        "id": "RllKAJlkrEHN"
      },
      "outputs": [],
      "source": [
        "import turtle\n",
        "import math\n",
        "\n",
        "# function to draw a spirograph\n",
        "def draw_spirograph(R, r, l):\n",
        "    # calculate the ratio of inner and outer circle radii\n",
        "    k = r / R\n",
        "    # set the turtle speed and pen color\n",
        "    turtle.speed(0)\n",
        "    turtle.pencolor(pen_color)\n",
        "    turtle.pensize(pen_width)\n",
        "    # loop to draw the spirograph\n",
        "    for i in range(int(360 / math.gcd(R, r))):\n",
        "        # calculate the angle of the turtle's position\n",
        "        angle = math.radians(i)\n",
        "        x = (R - r) * math.cos(angle) + l * math.cos((R - r) / r * angle)\n",
        "        y = (R - r) * math.sin(angle) - l * math.sin((R - r) / r * angle)\n",
        "        # move the turtle to the calculated position\n",
        "        turtle.setpos(x, y)\n",
        "\n",
        "# get user input for spirograph parameters\n",
        "R = int(input(\"Enter the radius of the outer circle: \"))\n",
        "r = int(input(\"Enter the radius of the inner circle: \"))\n",
        "l = int(input(\"Enter the distance between the centers of the circles: \"))\n",
        "pen_color = input(\"Enter the pen color: \")\n",
        "pen_width = int(input(\"Enter the pen width: \"))\n",
        "\n",
        "# draw the spirograph\n",
        "draw_spirograph(R, r, l)\n",
        "\n",
        "# allow the user to save the image\n",
        "turtle.getcanvas().postscript(file=\"spirograph.eps\")\n"
      ]
    },
    {
      "cell_type": "markdown",
      "source": [
        "In this program, we define the draw_spirograph() function, which takes the radii of the inner and outer circles, as well as the distance between their centers, as parameters. The function then uses these parameters to calculate the position of the turtle and draw the spirograph.\n",
        "\n",
        "The program prompts the user to enter the spirograph parameters, as well as the pen color and width, using the input() function. It then calls the draw_spirograph() function with the user input parameters.\n",
        "\n",
        "Finally, the program allows the user to save the image using the getcanvas().postscript() function.\n",
        "\n",
        "You can customize this code further by adding more options for the user to choose from, such as the number of rotations or the number of points to draw, or by adding a graphical user interface (GUI) using a library like Tkinter."
      ],
      "metadata": {
        "id": "h4osBOFbrKlX"
      }
    }
  ]
}